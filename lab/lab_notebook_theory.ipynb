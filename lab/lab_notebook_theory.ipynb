{
 "cells": [
  {
   "cell_type": "markdown",
   "metadata": {},
   "source": [
    "# Linear Modeling\n",
    "\n",
    "The goal of this lab is to design a class for linear regression, using no classes or functions from Scikit-Learn.\n",
    "\n",
    "Ensure your class satisfies:\n",
    "- Includes a class method to fit the model to a Pandas dataframe $X$ and a Pandas series $y$\n",
    "- Includes a class method to solve for the optimal coefficients\n",
    "- Includes a class method to make predictions, given a new matrix $\\hat{X}$\n",
    "- Does not invert any matrices explicitly. Instead, solve the normal equations using `np.lingalg.solve`.\n",
    "- It can be instructed to automatically perform a train-test split and return performance metrics on the test set.\n",
    "- It can provide metrics including SSE, MSE, RMSE, and $R^2$.\n",
    "\n",
    "Before programming your class, consider the following questions and record the answers:\n",
    "- How does your class handle categorical data? How does Sci-kit do it? \n",
    "It does not, but you can do one-hot encoding. Sci-kit is the same. \n",
    "- How does your class handle missing data? How does Sci-kit do it? \n",
    "It does not, but you can impute values yourself. Sci-kit is the same \n",
    "- Does your class have any methods for creating polynomial expansions or otherwise transforming data? How does Sci-kit do it?\n",
    "It does not, but you can create your own polynomial expansions. Scikit learn as a library that generates polynomial features for you. \n",
    "- How does your class handle the bias/intercept/constant? How does Sci-kit do it?\n",
    "My class adds an intercept column to the data. Sci-kit has a fit_intercept parameter, which defaults to true. \n",
    "- What output do you automatically provide to the user? Why? How does Sci-kit do it?\n",
    "I automatically calculate SSE, MSE, RMSE, and R^2 for the user. Scikit learn does not, they have a library thatt lets users compute these metrics easily too. \n",
    "- Are you including any tools for statistical inference? How does Sci-kit do it?\n",
    "No, I am not including any tools for statistical inference. Sci-kit has a library for statistical analysis that users can use. \n",
    "In order to measure how long it takes to run code, you can `import time`, and \n",
    "\n",
    "```\n",
    "start = time.time()\n",
    "<expressions and code>\n",
    "finish = time.time()\n",
    "runtime = start-finish\n",
    "```\n",
    "\n",
    "For the `heart_hw.csv` and `cars_hw.csv` data in the assignment folder, run some regressions and compare the performance of your class with Sci-Kit's linear regression model. Do you get the same answers for the optimal coefficients, SSE, and $R^2$? Which one runs faster?\n",
    "\n"
   ]
  },
  {
   "cell_type": "code",
   "execution_count": null,
   "metadata": {},
   "outputs": [],
   "source": [
    "#linear regression class\n",
    "import pandas as pd\n",
    "import numpy as np\n",
    "from numpy.linalg import solve\n",
    "from sklearn.model_selection import train_test_split\n",
    "\n",
    "class LinearRegression:\n",
    "    def __init__(self, split_data=False, test_size = 0.2, random_state = 0):\n",
    "        self.coefficients = None\n",
    "        self.split_data = split_data\n",
    "        self.test_size = test_size\n",
    "        self.random_state = random_state\n",
    "\n",
    "    def train_test(X, Y):\n",
    "        return train_test_split(X, Y, test_size=self.test_size, random_state=self.random_state)   \n",
    "\n",
    "    def fit(self, X: pd.Dataframe, y: pd.Series):\n",
    "        X.insert(0, 'Intercept', 1)  # add intercept\n",
    "        X = X.values\n",
    "        Y = y.values.reshape(-1, 1)  # turn y into column\n",
    "        \n",
    "        if self.split_data:\n",
    "            X_train, X_tets, Y_train, Y_test = train_test(X, Y)\n",
    "            \n",
    "            \n"
   ]
  }
 ],
 "metadata": {
  "language_info": {
   "name": "python"
  }
 },
 "nbformat": 4,
 "nbformat_minor": 2
}
